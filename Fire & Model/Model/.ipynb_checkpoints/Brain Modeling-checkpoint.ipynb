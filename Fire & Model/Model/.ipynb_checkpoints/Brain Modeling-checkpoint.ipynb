{
 "cells": [
  {
   "cell_type": "code",
   "execution_count": 1,
   "metadata": {},
   "outputs": [],
   "source": [
    "import pandas as pd\n",
    "import pandas_profiling as pp\n",
    "import seaborn as sns\n",
    "from matplotlib import pyplot as plt\n",
    "import numpy as np\n",
    "from sklearn.preprocessing import StandardScaler\n",
    "from sklearn.model_selection import train_test_split\n",
    "from sklearn import metrics\n",
    "from sklearn.naive_bayes import GaussianNB\n",
    "from sklearn.ensemble import RandomForestClassifier, AdaBoostClassifier\n",
    "from sklearn.tree import DecisionTreeClassifier\n",
    "from sklearn.svm import SVC\n",
    "from sklearn.neighbors import KNeighborsClassifier\n",
    "from sklearn.linear_model import LogisticRegression\n",
    "from sklearn.model_selection import cross_val_score\n",
    "from sklearn.model_selection import GridSearchCV\n",
    "from xgboost import XGBClassifier\n",
    "from sklearn.pipeline import Pipeline\n",
    "import joblib \n",
    "import json\n",
    "from sklearn.metrics import confusion_matrix\n",
    "from sklearn.metrics import classification_report\n",
    "import time\n"
   ]
  },
  {
   "cell_type": "code",
   "execution_count": 5,
   "metadata": {},
   "outputs": [],
   "source": [
    "df1 = pd.read_csv('../Data/eeg_data1.csv')\n",
    "df2 = pd.read_csv('../Data/eeg_data2.csv')\n"
   ]
  },
  {
   "cell_type": "code",
   "execution_count": 6,
   "metadata": {},
   "outputs": [
    {
     "data": {
      "text/html": [
       "<div>\n",
       "<style scoped>\n",
       "    .dataframe tbody tr th:only-of-type {\n",
       "        vertical-align: middle;\n",
       "    }\n",
       "\n",
       "    .dataframe tbody tr th {\n",
       "        vertical-align: top;\n",
       "    }\n",
       "\n",
       "    .dataframe thead th {\n",
       "        text-align: right;\n",
       "    }\n",
       "</style>\n",
       "<table border=\"1\" class=\"dataframe\">\n",
       "  <thead>\n",
       "    <tr style=\"text-align: right;\">\n",
       "      <th></th>\n",
       "      <th>Unnamed: 0</th>\n",
       "      <th>Unnamed: 0.1</th>\n",
       "      <th>id</th>\n",
       "      <th>indra_time</th>\n",
       "      <th>browser_latency</th>\n",
       "      <th>reading_time</th>\n",
       "      <th>attention_esense</th>\n",
       "      <th>meditation_esense</th>\n",
       "      <th>eeg_power</th>\n",
       "      <th>raw_values</th>\n",
       "      <th>signal_quality</th>\n",
       "      <th>createdAt</th>\n",
       "      <th>updatedAt</th>\n",
       "      <th>label</th>\n",
       "    </tr>\n",
       "  </thead>\n",
       "  <tbody>\n",
       "    <tr>\n",
       "      <th>0</th>\n",
       "      <td>0</td>\n",
       "      <td>3730</td>\n",
       "      <td>12</td>\n",
       "      <td>2015-05-09 23:13:42.281</td>\n",
       "      <td>1461</td>\n",
       "      <td>2015-05-09 16:13:40.954</td>\n",
       "      <td>0</td>\n",
       "      <td>0</td>\n",
       "      <td>[944412.0, 111373.0, 52404.0, 28390.0, 3237.0,...</td>\n",
       "      <td>[-203.0, -202.0, -196.0, -185.0, -163.0, -137....</td>\n",
       "      <td>200</td>\n",
       "      <td>2015-05-09 23:13:39.550</td>\n",
       "      <td>2015-05-09 23:13:39.549+00</td>\n",
       "      <td>unlabeled</td>\n",
       "    </tr>\n",
       "    <tr>\n",
       "      <th>1</th>\n",
       "      <td>1</td>\n",
       "      <td>3732</td>\n",
       "      <td>12</td>\n",
       "      <td>2015-05-09 23:13:43.186</td>\n",
       "      <td>1461</td>\n",
       "      <td>2015-05-09 16:13:41.964</td>\n",
       "      <td>0</td>\n",
       "      <td>0</td>\n",
       "      <td>[1793049.0, 89551.0, 3896.0, 21727.0, 9301.0, ...</td>\n",
       "      <td>[104.0, 134.0, 128.0, 121.0, 145.0, 151.0, 123...</td>\n",
       "      <td>200</td>\n",
       "      <td>2015-05-09 23:13:40.559</td>\n",
       "      <td>2015-05-09 23:13:40.559+00</td>\n",
       "      <td>unlabeled</td>\n",
       "    </tr>\n",
       "    <tr>\n",
       "      <th>2</th>\n",
       "      <td>2</td>\n",
       "      <td>3734</td>\n",
       "      <td>12</td>\n",
       "      <td>2015-05-09 23:13:44.392</td>\n",
       "      <td>1461</td>\n",
       "      <td>2015-05-09 16:13:42.950</td>\n",
       "      <td>0</td>\n",
       "      <td>0</td>\n",
       "      <td>[400192.0, 640624.0, 153087.0, 69733.0, 98854....</td>\n",
       "      <td>[2002.0, 2047.0, 2047.0, 2047.0, 2047.0, 2047....</td>\n",
       "      <td>200</td>\n",
       "      <td>2015-05-09 23:13:41.549</td>\n",
       "      <td>2015-05-09 23:13:41.549+00</td>\n",
       "      <td>unlabeled</td>\n",
       "    </tr>\n",
       "    <tr>\n",
       "      <th>3</th>\n",
       "      <td>3</td>\n",
       "      <td>3735</td>\n",
       "      <td>12</td>\n",
       "      <td>2015-05-09 23:13:45.297</td>\n",
       "      <td>1461</td>\n",
       "      <td>2015-05-09 16:13:43.935</td>\n",
       "      <td>0</td>\n",
       "      <td>0</td>\n",
       "      <td>[681192.0, 138630.0, 67891.0, 26459.0, 592240....</td>\n",
       "      <td>[1287.0, 1241.0, 1196.0, 1155.0, 1113.0, 1072....</td>\n",
       "      <td>200</td>\n",
       "      <td>2015-05-09 23:13:42.532</td>\n",
       "      <td>2015-05-09 23:13:42.532+00</td>\n",
       "      <td>unlabeled</td>\n",
       "    </tr>\n",
       "    <tr>\n",
       "      <th>4</th>\n",
       "      <td>4</td>\n",
       "      <td>3737</td>\n",
       "      <td>12</td>\n",
       "      <td>2015-05-09 23:13:46.201</td>\n",
       "      <td>1460</td>\n",
       "      <td>2015-05-09 16:13:44.936</td>\n",
       "      <td>0</td>\n",
       "      <td>0</td>\n",
       "      <td>[268406.0, 197772.0, 190654.0, 266433.0, 91683...</td>\n",
       "      <td>[1905.0, 1836.0, 1770.0, 1707.0, 1645.0, 1587....</td>\n",
       "      <td>200</td>\n",
       "      <td>2015-05-09 23:13:43.532</td>\n",
       "      <td>2015-05-09 23:13:43.532+00</td>\n",
       "      <td>unlabeled</td>\n",
       "    </tr>\n",
       "  </tbody>\n",
       "</table>\n",
       "</div>"
      ],
      "text/plain": [
       "   Unnamed: 0  Unnamed: 0.1  id               indra_time browser_latency  \\\n",
       "0           0          3730  12  2015-05-09 23:13:42.281            1461   \n",
       "1           1          3732  12  2015-05-09 23:13:43.186            1461   \n",
       "2           2          3734  12  2015-05-09 23:13:44.392            1461   \n",
       "3           3          3735  12  2015-05-09 23:13:45.297            1461   \n",
       "4           4          3737  12  2015-05-09 23:13:46.201            1460   \n",
       "\n",
       "              reading_time  attention_esense  meditation_esense  \\\n",
       "0  2015-05-09 16:13:40.954                 0                  0   \n",
       "1  2015-05-09 16:13:41.964                 0                  0   \n",
       "2  2015-05-09 16:13:42.950                 0                  0   \n",
       "3  2015-05-09 16:13:43.935                 0                  0   \n",
       "4  2015-05-09 16:13:44.936                 0                  0   \n",
       "\n",
       "                                           eeg_power  \\\n",
       "0  [944412.0, 111373.0, 52404.0, 28390.0, 3237.0,...   \n",
       "1  [1793049.0, 89551.0, 3896.0, 21727.0, 9301.0, ...   \n",
       "2  [400192.0, 640624.0, 153087.0, 69733.0, 98854....   \n",
       "3  [681192.0, 138630.0, 67891.0, 26459.0, 592240....   \n",
       "4  [268406.0, 197772.0, 190654.0, 266433.0, 91683...   \n",
       "\n",
       "                                          raw_values  signal_quality  \\\n",
       "0  [-203.0, -202.0, -196.0, -185.0, -163.0, -137....             200   \n",
       "1  [104.0, 134.0, 128.0, 121.0, 145.0, 151.0, 123...             200   \n",
       "2  [2002.0, 2047.0, 2047.0, 2047.0, 2047.0, 2047....             200   \n",
       "3  [1287.0, 1241.0, 1196.0, 1155.0, 1113.0, 1072....             200   \n",
       "4  [1905.0, 1836.0, 1770.0, 1707.0, 1645.0, 1587....             200   \n",
       "\n",
       "                 createdAt                   updatedAt      label  \n",
       "0  2015-05-09 23:13:39.550  2015-05-09 23:13:39.549+00  unlabeled  \n",
       "1  2015-05-09 23:13:40.559  2015-05-09 23:13:40.559+00  unlabeled  \n",
       "2  2015-05-09 23:13:41.549  2015-05-09 23:13:41.549+00  unlabeled  \n",
       "3  2015-05-09 23:13:42.532  2015-05-09 23:13:42.532+00  unlabeled  \n",
       "4  2015-05-09 23:13:43.532  2015-05-09 23:13:43.532+00  unlabeled  "
      ]
     },
     "execution_count": 6,
     "metadata": {},
     "output_type": "execute_result"
    }
   ],
   "source": [
    "df = df1.append(df2)\n",
    "df.head()"
   ]
  },
  {
   "cell_type": "code",
   "execution_count": 7,
   "metadata": {},
   "outputs": [
    {
     "data": {
      "text/plain": [
       "Index(['Unnamed: 0', 'Unnamed: 0.1', 'id', 'indra_time', 'browser_latency',\n",
       "       'reading_time', 'attention_esense', 'meditation_esense', 'eeg_power',\n",
       "       'raw_values', 'signal_quality', 'createdAt', 'updatedAt', 'label'],\n",
       "      dtype='object')"
      ]
     },
     "execution_count": 7,
     "metadata": {},
     "output_type": "execute_result"
    }
   ],
   "source": [
    "df.columns"
   ]
  },
  {
   "cell_type": "code",
   "execution_count": 8,
   "metadata": {},
   "outputs": [],
   "source": [
    "df = df[['raw_values','label']]\n"
   ]
  },
  {
   "cell_type": "code",
   "execution_count": 9,
   "metadata": {},
   "outputs": [
    {
     "data": {
      "text/html": [
       "<div>\n",
       "<style scoped>\n",
       "    .dataframe tbody tr th:only-of-type {\n",
       "        vertical-align: middle;\n",
       "    }\n",
       "\n",
       "    .dataframe tbody tr th {\n",
       "        vertical-align: top;\n",
       "    }\n",
       "\n",
       "    .dataframe thead th {\n",
       "        text-align: right;\n",
       "    }\n",
       "</style>\n",
       "<table border=\"1\" class=\"dataframe\">\n",
       "  <thead>\n",
       "    <tr style=\"text-align: right;\">\n",
       "      <th></th>\n",
       "      <th>raw_values</th>\n",
       "      <th>label</th>\n",
       "    </tr>\n",
       "  </thead>\n",
       "  <tbody>\n",
       "    <tr>\n",
       "      <th>13017</th>\n",
       "      <td>[99.0, 96.0, 91.0, 89.0, 91.0, 89.0, 87.0, 93....</td>\n",
       "      <td>blinkInstruction</td>\n",
       "    </tr>\n",
       "    <tr>\n",
       "      <th>13018</th>\n",
       "      <td>[23.0, 40.0, 64.0, 89.0, 86.0, 33.0, -14.0, -1...</td>\n",
       "      <td>blinkInstruction</td>\n",
       "    </tr>\n",
       "    <tr>\n",
       "      <th>13019</th>\n",
       "      <td>[41.0, 26.0, 16.0, 20.0, 34.0, 51.0, 56.0, 55....</td>\n",
       "      <td>blinkInstruction</td>\n",
       "    </tr>\n",
       "    <tr>\n",
       "      <th>13020</th>\n",
       "      <td>[208.0, 198.0, 122.0, 84.0, 161.0, 249.0, 216....</td>\n",
       "      <td>blinkInstruction</td>\n",
       "    </tr>\n",
       "    <tr>\n",
       "      <th>13021</th>\n",
       "      <td>[129.0, 133.0, 114.0, 105.0, 101.0, 109.0, 99....</td>\n",
       "      <td>blinkInstruction</td>\n",
       "    </tr>\n",
       "    <tr>\n",
       "      <th>...</th>\n",
       "      <td>...</td>\n",
       "      <td>...</td>\n",
       "    </tr>\n",
       "    <tr>\n",
       "      <th>12624</th>\n",
       "      <td>[39.0, 9.0, 0.0, -5.0, 1.0, 22.0, 33.0, 34.0, ...</td>\n",
       "      <td>colorRound5-6</td>\n",
       "    </tr>\n",
       "    <tr>\n",
       "      <th>12625</th>\n",
       "      <td>[17.0, 33.0, 43.0, 38.0, 18.0, 10.0, 34.0, 59....</td>\n",
       "      <td>colorRound5-6</td>\n",
       "    </tr>\n",
       "    <tr>\n",
       "      <th>12626</th>\n",
       "      <td>[-238.0, -37.0, 220.0, 346.0, 293.0, 149.0, 51...</td>\n",
       "      <td>colorRound5-6</td>\n",
       "    </tr>\n",
       "    <tr>\n",
       "      <th>12627</th>\n",
       "      <td>[96.0, 72.0, 39.0, 29.0, 66.0, 100.0, 88.0, 66...</td>\n",
       "      <td>colorRound5-6</td>\n",
       "    </tr>\n",
       "    <tr>\n",
       "      <th>12628</th>\n",
       "      <td>[52.0, 76.0, 72.0, 55.0, 68.0, 75.0, 82.0, 93....</td>\n",
       "      <td>colorRound5-6</td>\n",
       "    </tr>\n",
       "  </tbody>\n",
       "</table>\n",
       "<p>9958 rows × 2 columns</p>\n",
       "</div>"
      ],
      "text/plain": [
       "                                              raw_values             label\n",
       "13017  [99.0, 96.0, 91.0, 89.0, 91.0, 89.0, 87.0, 93....  blinkInstruction\n",
       "13018  [23.0, 40.0, 64.0, 89.0, 86.0, 33.0, -14.0, -1...  blinkInstruction\n",
       "13019  [41.0, 26.0, 16.0, 20.0, 34.0, 51.0, 56.0, 55....  blinkInstruction\n",
       "13020  [208.0, 198.0, 122.0, 84.0, 161.0, 249.0, 216....  blinkInstruction\n",
       "13021  [129.0, 133.0, 114.0, 105.0, 101.0, 109.0, 99....  blinkInstruction\n",
       "...                                                  ...               ...\n",
       "12624  [39.0, 9.0, 0.0, -5.0, 1.0, 22.0, 33.0, 34.0, ...     colorRound5-6\n",
       "12625  [17.0, 33.0, 43.0, 38.0, 18.0, 10.0, 34.0, 59....     colorRound5-6\n",
       "12626  [-238.0, -37.0, 220.0, 346.0, 293.0, 149.0, 51...     colorRound5-6\n",
       "12627  [96.0, 72.0, 39.0, 29.0, 66.0, 100.0, 88.0, 66...     colorRound5-6\n",
       "12628  [52.0, 76.0, 72.0, 55.0, 68.0, 75.0, 82.0, 93....     colorRound5-6\n",
       "\n",
       "[9958 rows x 2 columns]"
      ]
     },
     "execution_count": 9,
     "metadata": {},
     "output_type": "execute_result"
    }
   ],
   "source": [
    "df = df[df['label']!='unlabeled']\n",
    "df"
   ]
  },
  {
   "cell_type": "code",
   "execution_count": 10,
   "metadata": {},
   "outputs": [
    {
     "data": {
      "text/plain": [
       "{'relax': 934,\n",
       " 'music': 932,\n",
       " 'video-ver2': 481,\n",
       " 'thinkOfItems-ver2': 481,\n",
       " 'colorInstruction2': 469,\n",
       " 'video-ver1': 456,\n",
       " 'thinkOfItems-ver1': 449,\n",
       " 'thinkOfItemsInstruction-ver2': 321,\n",
       " 'colorInstruction1': 316,\n",
       " 'thinkOfItemsInstruction-ver1': 303,\n",
       " 'mathInstruction': 161,\n",
       " 'videoInstruction': 161,\n",
       " 'relaxInstruction': 158,\n",
       " 'musicInstruction': 152,\n",
       " 'blinkInstruction': 132,\n",
       " 'colorRound1-3': 128,\n",
       " 'colorRound1-4': 127,\n",
       " 'colorRound1-2': 125,\n",
       " 'colorRound1-1': 125,\n",
       " 'colorRound1-5': 124,\n",
       " 'colorRound1-6': 122,\n",
       " 'readyRound5': 96,\n",
       " 'colorRound5-3': 96,\n",
       " 'readyRound4': 95,\n",
       " 'colorRound2-4': 95,\n",
       " 'readyRound2': 95,\n",
       " 'colorRound5-5': 94,\n",
       " 'colorRound2-1': 94,\n",
       " 'readyRound1': 94,\n",
       " 'colorRound2-5': 93,\n",
       " 'colorRound2-2': 93,\n",
       " 'readyRound3': 92,\n",
       " 'colorRound2-6': 92,\n",
       " 'colorRound5-6': 92,\n",
       " 'colorRound5-2': 92,\n",
       " 'colorRound2-3': 92,\n",
       " 'colorRound5-1': 90,\n",
       " 'colorRound5-4': 90,\n",
       " 'math10': 84,\n",
       " 'math8': 83,\n",
       " 'math2': 83,\n",
       " 'math4': 79,\n",
       " 'math6': 79,\n",
       " 'math11': 78,\n",
       " 'math12': 78,\n",
       " 'math3': 76,\n",
       " 'math7': 76,\n",
       " 'math5': 75,\n",
       " 'math9': 73,\n",
       " 'math1': 72,\n",
       " 'colorRound3-4': 63,\n",
       " 'colorRound3-2': 63,\n",
       " 'colorRound3-1': 61,\n",
       " 'colorRound3-3': 61,\n",
       " 'colorRound3-5': 61,\n",
       " 'blink5': 53,\n",
       " 'blink1': 51,\n",
       " 'blink3': 48,\n",
       " 'colorRound3-6': 48,\n",
       " 'blink2': 44,\n",
       " 'blink4': 43,\n",
       " 'colorRound4-6': 32,\n",
       " 'colorRound4-5': 32,\n",
       " 'colorRound4-3': 32,\n",
       " 'colorRound4-2': 30,\n",
       " 'colorRound4-4': 29,\n",
       " 'colorRound4-1': 29}"
      ]
     },
     "execution_count": 10,
     "metadata": {},
     "output_type": "execute_result"
    }
   ],
   "source": [
    "dict(df.label.value_counts())"
   ]
  },
  {
   "cell_type": "code",
   "execution_count": 11,
   "metadata": {},
   "outputs": [],
   "source": [
    "df = df.applymap(lambda x: 'math' if 'math' in x else  x)\n",
    "df = df.applymap(lambda x: 'instruction' if 'Instruction' in x else  x)\n",
    "df = df.applymap(lambda x: 'color' if 'color' in x else  x)\n",
    "df = df.applymap(lambda x: 'blink' if 'blink' in x else  x)\n",
    "df = df.applymap(lambda x: 'round' if 'Round' in x else  x)"
   ]
  },
  {
   "cell_type": "code",
   "execution_count": 12,
   "metadata": {},
   "outputs": [
    {
     "data": {
      "text/plain": [
       "{'color': 2405,\n",
       " 'instruction': 2012,\n",
       " 'math': 1097,\n",
       " 'relax': 934,\n",
       " 'music': 932,\n",
       " 'video-ver2': 481,\n",
       " 'thinkOfItems-ver2': 481,\n",
       " 'round': 472,\n",
       " 'video-ver1': 456,\n",
       " 'thinkOfItems-ver1': 449,\n",
       " 'blink': 239}"
      ]
     },
     "execution_count": 12,
     "metadata": {},
     "output_type": "execute_result"
    }
   ],
   "source": [
    "dict(df.label.value_counts())"
   ]
  },
  {
   "cell_type": "code",
   "execution_count": 13,
   "metadata": {},
   "outputs": [],
   "source": [
    "df = df[(df['label'] == 'color') | (df['label'] == 'instruction') | (df['label'] == 'math') | (df['label'] == 'relax') | (df['label'] == 'music')]"
   ]
  },
  {
   "cell_type": "code",
   "execution_count": 14,
   "metadata": {},
   "outputs": [
    {
     "data": {
      "text/plain": [
       "{'color': 2405, 'instruction': 2012, 'math': 1097, 'relax': 934, 'music': 932}"
      ]
     },
     "execution_count": 14,
     "metadata": {},
     "output_type": "execute_result"
    }
   ],
   "source": [
    "dict(df.label.value_counts())"
   ]
  },
  {
   "cell_type": "code",
   "execution_count": 15,
   "metadata": {},
   "outputs": [
    {
     "data": {
      "text/html": [
       "<div>\n",
       "<style scoped>\n",
       "    .dataframe tbody tr th:only-of-type {\n",
       "        vertical-align: middle;\n",
       "    }\n",
       "\n",
       "    .dataframe tbody tr th {\n",
       "        vertical-align: top;\n",
       "    }\n",
       "\n",
       "    .dataframe thead th {\n",
       "        text-align: right;\n",
       "    }\n",
       "</style>\n",
       "<table border=\"1\" class=\"dataframe\">\n",
       "  <thead>\n",
       "    <tr style=\"text-align: right;\">\n",
       "      <th></th>\n",
       "      <th>raw_values</th>\n",
       "      <th>label</th>\n",
       "    </tr>\n",
       "  </thead>\n",
       "  <tbody>\n",
       "    <tr>\n",
       "      <th>13017</th>\n",
       "      <td>[99.0, 96.0, 91.0, 89.0, 91.0, 89.0, 87.0, 93....</td>\n",
       "      <td>instruction</td>\n",
       "    </tr>\n",
       "    <tr>\n",
       "      <th>13018</th>\n",
       "      <td>[23.0, 40.0, 64.0, 89.0, 86.0, 33.0, -14.0, -1...</td>\n",
       "      <td>instruction</td>\n",
       "    </tr>\n",
       "    <tr>\n",
       "      <th>13019</th>\n",
       "      <td>[41.0, 26.0, 16.0, 20.0, 34.0, 51.0, 56.0, 55....</td>\n",
       "      <td>instruction</td>\n",
       "    </tr>\n",
       "    <tr>\n",
       "      <th>13020</th>\n",
       "      <td>[208.0, 198.0, 122.0, 84.0, 161.0, 249.0, 216....</td>\n",
       "      <td>instruction</td>\n",
       "    </tr>\n",
       "    <tr>\n",
       "      <th>13021</th>\n",
       "      <td>[129.0, 133.0, 114.0, 105.0, 101.0, 109.0, 99....</td>\n",
       "      <td>instruction</td>\n",
       "    </tr>\n",
       "    <tr>\n",
       "      <th>...</th>\n",
       "      <td>...</td>\n",
       "      <td>...</td>\n",
       "    </tr>\n",
       "    <tr>\n",
       "      <th>12624</th>\n",
       "      <td>[39.0, 9.0, 0.0, -5.0, 1.0, 22.0, 33.0, 34.0, ...</td>\n",
       "      <td>color</td>\n",
       "    </tr>\n",
       "    <tr>\n",
       "      <th>12625</th>\n",
       "      <td>[17.0, 33.0, 43.0, 38.0, 18.0, 10.0, 34.0, 59....</td>\n",
       "      <td>color</td>\n",
       "    </tr>\n",
       "    <tr>\n",
       "      <th>12626</th>\n",
       "      <td>[-238.0, -37.0, 220.0, 346.0, 293.0, 149.0, 51...</td>\n",
       "      <td>color</td>\n",
       "    </tr>\n",
       "    <tr>\n",
       "      <th>12627</th>\n",
       "      <td>[96.0, 72.0, 39.0, 29.0, 66.0, 100.0, 88.0, 66...</td>\n",
       "      <td>color</td>\n",
       "    </tr>\n",
       "    <tr>\n",
       "      <th>12628</th>\n",
       "      <td>[52.0, 76.0, 72.0, 55.0, 68.0, 75.0, 82.0, 93....</td>\n",
       "      <td>color</td>\n",
       "    </tr>\n",
       "  </tbody>\n",
       "</table>\n",
       "<p>7380 rows × 2 columns</p>\n",
       "</div>"
      ],
      "text/plain": [
       "                                              raw_values        label\n",
       "13017  [99.0, 96.0, 91.0, 89.0, 91.0, 89.0, 87.0, 93....  instruction\n",
       "13018  [23.0, 40.0, 64.0, 89.0, 86.0, 33.0, -14.0, -1...  instruction\n",
       "13019  [41.0, 26.0, 16.0, 20.0, 34.0, 51.0, 56.0, 55....  instruction\n",
       "13020  [208.0, 198.0, 122.0, 84.0, 161.0, 249.0, 216....  instruction\n",
       "13021  [129.0, 133.0, 114.0, 105.0, 101.0, 109.0, 99....  instruction\n",
       "...                                                  ...          ...\n",
       "12624  [39.0, 9.0, 0.0, -5.0, 1.0, 22.0, 33.0, 34.0, ...        color\n",
       "12625  [17.0, 33.0, 43.0, 38.0, 18.0, 10.0, 34.0, 59....        color\n",
       "12626  [-238.0, -37.0, 220.0, 346.0, 293.0, 149.0, 51...        color\n",
       "12627  [96.0, 72.0, 39.0, 29.0, 66.0, 100.0, 88.0, 66...        color\n",
       "12628  [52.0, 76.0, 72.0, 55.0, 68.0, 75.0, 82.0, 93....        color\n",
       "\n",
       "[7380 rows x 2 columns]"
      ]
     },
     "execution_count": 15,
     "metadata": {},
     "output_type": "execute_result"
    }
   ],
   "source": [
    "df"
   ]
  },
  {
   "cell_type": "code",
   "execution_count": 16,
   "metadata": {},
   "outputs": [],
   "source": [
    "df3 = pd.DataFrame()\n",
    "for i,j in zip(df.raw_values, df.label):\n",
    "    try:\n",
    "        lst = i[1:-1].split(',')\n",
    "        srs= pd.Series(lst)\n",
    "        srs = srs.append(pd.Series(j))\n",
    "        transpose = srs.to_frame().T\n",
    "        df3 = df3.append(transpose)\n",
    "        \n",
    "    except:\n",
    "        continue"
   ]
  },
  {
   "cell_type": "code",
   "execution_count": 17,
   "metadata": {},
   "outputs": [
    {
     "data": {
      "text/html": [
       "<div>\n",
       "<style scoped>\n",
       "    .dataframe tbody tr th:only-of-type {\n",
       "        vertical-align: middle;\n",
       "    }\n",
       "\n",
       "    .dataframe tbody tr th {\n",
       "        vertical-align: top;\n",
       "    }\n",
       "\n",
       "    .dataframe thead th {\n",
       "        text-align: right;\n",
       "    }\n",
       "</style>\n",
       "<table border=\"1\" class=\"dataframe\">\n",
       "  <thead>\n",
       "    <tr style=\"text-align: right;\">\n",
       "      <th></th>\n",
       "      <th>0</th>\n",
       "      <th>1</th>\n",
       "      <th>2</th>\n",
       "      <th>3</th>\n",
       "      <th>4</th>\n",
       "      <th>5</th>\n",
       "      <th>6</th>\n",
       "      <th>7</th>\n",
       "      <th>8</th>\n",
       "      <th>9</th>\n",
       "      <th>...</th>\n",
       "      <th>503</th>\n",
       "      <th>504</th>\n",
       "      <th>505</th>\n",
       "      <th>506</th>\n",
       "      <th>507</th>\n",
       "      <th>508</th>\n",
       "      <th>509</th>\n",
       "      <th>510</th>\n",
       "      <th>511</th>\n",
       "      <th>0</th>\n",
       "    </tr>\n",
       "  </thead>\n",
       "  <tbody>\n",
       "    <tr>\n",
       "      <th>0</th>\n",
       "      <td>99.0</td>\n",
       "      <td>96.0</td>\n",
       "      <td>91.0</td>\n",
       "      <td>89.0</td>\n",
       "      <td>91.0</td>\n",
       "      <td>89.0</td>\n",
       "      <td>87.0</td>\n",
       "      <td>93.0</td>\n",
       "      <td>98.0</td>\n",
       "      <td>89.0</td>\n",
       "      <td>...</td>\n",
       "      <td>139.0</td>\n",
       "      <td>120.0</td>\n",
       "      <td>99.0</td>\n",
       "      <td>90.0</td>\n",
       "      <td>102.0</td>\n",
       "      <td>115.0</td>\n",
       "      <td>132.0</td>\n",
       "      <td>149.0</td>\n",
       "      <td>144.0</td>\n",
       "      <td>instruction</td>\n",
       "    </tr>\n",
       "    <tr>\n",
       "      <th>0</th>\n",
       "      <td>23.0</td>\n",
       "      <td>40.0</td>\n",
       "      <td>64.0</td>\n",
       "      <td>89.0</td>\n",
       "      <td>86.0</td>\n",
       "      <td>33.0</td>\n",
       "      <td>-14.0</td>\n",
       "      <td>-17.0</td>\n",
       "      <td>9.0</td>\n",
       "      <td>18.0</td>\n",
       "      <td>...</td>\n",
       "      <td>136.0</td>\n",
       "      <td>118.0</td>\n",
       "      <td>81.0</td>\n",
       "      <td>55.0</td>\n",
       "      <td>49.0</td>\n",
       "      <td>82.0</td>\n",
       "      <td>173.0</td>\n",
       "      <td>243.0</td>\n",
       "      <td>242.0</td>\n",
       "      <td>instruction</td>\n",
       "    </tr>\n",
       "    <tr>\n",
       "      <th>0</th>\n",
       "      <td>41.0</td>\n",
       "      <td>26.0</td>\n",
       "      <td>16.0</td>\n",
       "      <td>20.0</td>\n",
       "      <td>34.0</td>\n",
       "      <td>51.0</td>\n",
       "      <td>56.0</td>\n",
       "      <td>55.0</td>\n",
       "      <td>57.0</td>\n",
       "      <td>66.0</td>\n",
       "      <td>...</td>\n",
       "      <td>70.0</td>\n",
       "      <td>81.0</td>\n",
       "      <td>90.0</td>\n",
       "      <td>75.0</td>\n",
       "      <td>64.0</td>\n",
       "      <td>65.0</td>\n",
       "      <td>59.0</td>\n",
       "      <td>60.0</td>\n",
       "      <td>68.0</td>\n",
       "      <td>instruction</td>\n",
       "    </tr>\n",
       "    <tr>\n",
       "      <th>0</th>\n",
       "      <td>208.0</td>\n",
       "      <td>198.0</td>\n",
       "      <td>122.0</td>\n",
       "      <td>84.0</td>\n",
       "      <td>161.0</td>\n",
       "      <td>249.0</td>\n",
       "      <td>216.0</td>\n",
       "      <td>122.0</td>\n",
       "      <td>83.0</td>\n",
       "      <td>67.0</td>\n",
       "      <td>...</td>\n",
       "      <td>-1.0</td>\n",
       "      <td>7.0</td>\n",
       "      <td>-13.0</td>\n",
       "      <td>-43.0</td>\n",
       "      <td>-55.0</td>\n",
       "      <td>-91.0</td>\n",
       "      <td>-129.0</td>\n",
       "      <td>-126.0</td>\n",
       "      <td>-108.0</td>\n",
       "      <td>instruction</td>\n",
       "    </tr>\n",
       "    <tr>\n",
       "      <th>0</th>\n",
       "      <td>129.0</td>\n",
       "      <td>133.0</td>\n",
       "      <td>114.0</td>\n",
       "      <td>105.0</td>\n",
       "      <td>101.0</td>\n",
       "      <td>109.0</td>\n",
       "      <td>99.0</td>\n",
       "      <td>65.0</td>\n",
       "      <td>69.0</td>\n",
       "      <td>118.0</td>\n",
       "      <td>...</td>\n",
       "      <td>73.0</td>\n",
       "      <td>42.0</td>\n",
       "      <td>17.0</td>\n",
       "      <td>37.0</td>\n",
       "      <td>59.0</td>\n",
       "      <td>98.0</td>\n",
       "      <td>163.0</td>\n",
       "      <td>199.0</td>\n",
       "      <td>203.0</td>\n",
       "      <td>instruction</td>\n",
       "    </tr>\n",
       "    <tr>\n",
       "      <th>...</th>\n",
       "      <td>...</td>\n",
       "      <td>...</td>\n",
       "      <td>...</td>\n",
       "      <td>...</td>\n",
       "      <td>...</td>\n",
       "      <td>...</td>\n",
       "      <td>...</td>\n",
       "      <td>...</td>\n",
       "      <td>...</td>\n",
       "      <td>...</td>\n",
       "      <td>...</td>\n",
       "      <td>...</td>\n",
       "      <td>...</td>\n",
       "      <td>...</td>\n",
       "      <td>...</td>\n",
       "      <td>...</td>\n",
       "      <td>...</td>\n",
       "      <td>...</td>\n",
       "      <td>...</td>\n",
       "      <td>...</td>\n",
       "      <td>...</td>\n",
       "    </tr>\n",
       "    <tr>\n",
       "      <th>0</th>\n",
       "      <td>39.0</td>\n",
       "      <td>9.0</td>\n",
       "      <td>0.0</td>\n",
       "      <td>-5.0</td>\n",
       "      <td>1.0</td>\n",
       "      <td>22.0</td>\n",
       "      <td>33.0</td>\n",
       "      <td>34.0</td>\n",
       "      <td>50.0</td>\n",
       "      <td>69.0</td>\n",
       "      <td>...</td>\n",
       "      <td>-226.0</td>\n",
       "      <td>-242.0</td>\n",
       "      <td>-248.0</td>\n",
       "      <td>-244.0</td>\n",
       "      <td>-235.0</td>\n",
       "      <td>-211.0</td>\n",
       "      <td>-164.0</td>\n",
       "      <td>-122.0</td>\n",
       "      <td>-115.0</td>\n",
       "      <td>color</td>\n",
       "    </tr>\n",
       "    <tr>\n",
       "      <th>0</th>\n",
       "      <td>17.0</td>\n",
       "      <td>33.0</td>\n",
       "      <td>43.0</td>\n",
       "      <td>38.0</td>\n",
       "      <td>18.0</td>\n",
       "      <td>10.0</td>\n",
       "      <td>34.0</td>\n",
       "      <td>59.0</td>\n",
       "      <td>72.0</td>\n",
       "      <td>68.0</td>\n",
       "      <td>...</td>\n",
       "      <td>75.0</td>\n",
       "      <td>60.0</td>\n",
       "      <td>76.0</td>\n",
       "      <td>104.0</td>\n",
       "      <td>112.0</td>\n",
       "      <td>100.0</td>\n",
       "      <td>85.0</td>\n",
       "      <td>84.0</td>\n",
       "      <td>97.0</td>\n",
       "      <td>color</td>\n",
       "    </tr>\n",
       "    <tr>\n",
       "      <th>0</th>\n",
       "      <td>-238.0</td>\n",
       "      <td>-37.0</td>\n",
       "      <td>220.0</td>\n",
       "      <td>346.0</td>\n",
       "      <td>293.0</td>\n",
       "      <td>149.0</td>\n",
       "      <td>51.0</td>\n",
       "      <td>57.0</td>\n",
       "      <td>154.0</td>\n",
       "      <td>218.0</td>\n",
       "      <td>...</td>\n",
       "      <td>-25.0</td>\n",
       "      <td>-19.0</td>\n",
       "      <td>29.0</td>\n",
       "      <td>69.0</td>\n",
       "      <td>16.0</td>\n",
       "      <td>-44.0</td>\n",
       "      <td>21.0</td>\n",
       "      <td>71.0</td>\n",
       "      <td>44.0</td>\n",
       "      <td>color</td>\n",
       "    </tr>\n",
       "    <tr>\n",
       "      <th>0</th>\n",
       "      <td>96.0</td>\n",
       "      <td>72.0</td>\n",
       "      <td>39.0</td>\n",
       "      <td>29.0</td>\n",
       "      <td>66.0</td>\n",
       "      <td>100.0</td>\n",
       "      <td>88.0</td>\n",
       "      <td>66.0</td>\n",
       "      <td>58.0</td>\n",
       "      <td>73.0</td>\n",
       "      <td>...</td>\n",
       "      <td>43.0</td>\n",
       "      <td>74.0</td>\n",
       "      <td>92.0</td>\n",
       "      <td>87.0</td>\n",
       "      <td>72.0</td>\n",
       "      <td>64.0</td>\n",
       "      <td>72.0</td>\n",
       "      <td>86.0</td>\n",
       "      <td>97.0</td>\n",
       "      <td>color</td>\n",
       "    </tr>\n",
       "    <tr>\n",
       "      <th>0</th>\n",
       "      <td>52.0</td>\n",
       "      <td>76.0</td>\n",
       "      <td>72.0</td>\n",
       "      <td>55.0</td>\n",
       "      <td>68.0</td>\n",
       "      <td>75.0</td>\n",
       "      <td>82.0</td>\n",
       "      <td>93.0</td>\n",
       "      <td>89.0</td>\n",
       "      <td>73.0</td>\n",
       "      <td>...</td>\n",
       "      <td>60.0</td>\n",
       "      <td>41.0</td>\n",
       "      <td>51.0</td>\n",
       "      <td>73.0</td>\n",
       "      <td>86.0</td>\n",
       "      <td>67.0</td>\n",
       "      <td>53.0</td>\n",
       "      <td>57.0</td>\n",
       "      <td>56.0</td>\n",
       "      <td>color</td>\n",
       "    </tr>\n",
       "  </tbody>\n",
       "</table>\n",
       "<p>7380 rows × 513 columns</p>\n",
       "</div>"
      ],
      "text/plain": [
       "       0       1       2       3       4       5       6       7       8    \\\n",
       "0     99.0    96.0    91.0    89.0    91.0    89.0    87.0    93.0    98.0   \n",
       "0     23.0    40.0    64.0    89.0    86.0    33.0   -14.0   -17.0     9.0   \n",
       "0     41.0    26.0    16.0    20.0    34.0    51.0    56.0    55.0    57.0   \n",
       "0    208.0   198.0   122.0    84.0   161.0   249.0   216.0   122.0    83.0   \n",
       "0    129.0   133.0   114.0   105.0   101.0   109.0    99.0    65.0    69.0   \n",
       "..     ...     ...     ...     ...     ...     ...     ...     ...     ...   \n",
       "0     39.0     9.0     0.0    -5.0     1.0    22.0    33.0    34.0    50.0   \n",
       "0     17.0    33.0    43.0    38.0    18.0    10.0    34.0    59.0    72.0   \n",
       "0   -238.0   -37.0   220.0   346.0   293.0   149.0    51.0    57.0   154.0   \n",
       "0     96.0    72.0    39.0    29.0    66.0   100.0    88.0    66.0    58.0   \n",
       "0     52.0    76.0    72.0    55.0    68.0    75.0    82.0    93.0    89.0   \n",
       "\n",
       "       9    ...      503      504      505      506      507      508  \\\n",
       "0     89.0  ...    139.0    120.0     99.0     90.0    102.0    115.0   \n",
       "0     18.0  ...    136.0    118.0     81.0     55.0     49.0     82.0   \n",
       "0     66.0  ...     70.0     81.0     90.0     75.0     64.0     65.0   \n",
       "0     67.0  ...     -1.0      7.0    -13.0    -43.0    -55.0    -91.0   \n",
       "0    118.0  ...     73.0     42.0     17.0     37.0     59.0     98.0   \n",
       "..     ...  ...      ...      ...      ...      ...      ...      ...   \n",
       "0     69.0  ...   -226.0   -242.0   -248.0   -244.0   -235.0   -211.0   \n",
       "0     68.0  ...     75.0     60.0     76.0    104.0    112.0    100.0   \n",
       "0    218.0  ...    -25.0    -19.0     29.0     69.0     16.0    -44.0   \n",
       "0     73.0  ...     43.0     74.0     92.0     87.0     72.0     64.0   \n",
       "0     73.0  ...     60.0     41.0     51.0     73.0     86.0     67.0   \n",
       "\n",
       "        509      510      511          0    \n",
       "0     132.0    149.0    144.0  instruction  \n",
       "0     173.0    243.0    242.0  instruction  \n",
       "0      59.0     60.0     68.0  instruction  \n",
       "0    -129.0   -126.0   -108.0  instruction  \n",
       "0     163.0    199.0    203.0  instruction  \n",
       "..      ...      ...      ...          ...  \n",
       "0    -164.0   -122.0   -115.0        color  \n",
       "0      85.0     84.0     97.0        color  \n",
       "0      21.0     71.0     44.0        color  \n",
       "0      72.0     86.0     97.0        color  \n",
       "0      53.0     57.0     56.0        color  \n",
       "\n",
       "[7380 rows x 513 columns]"
      ]
     },
     "execution_count": 17,
     "metadata": {},
     "output_type": "execute_result"
    }
   ],
   "source": [
    "df3"
   ]
  },
  {
   "cell_type": "code",
   "execution_count": 20,
   "metadata": {},
   "outputs": [],
   "source": [
    "df3.to_csv('../Data/brain_modeling.csv',index=False)\n"
   ]
  },
  {
   "cell_type": "code",
   "execution_count": 2,
   "metadata": {},
   "outputs": [],
   "source": [
    "df = pd.read_csv('../Data/brain_modeling.csv')"
   ]
  },
  {
   "cell_type": "code",
   "execution_count": 3,
   "metadata": {},
   "outputs": [
    {
     "data": {
      "text/html": [
       "<div>\n",
       "<style scoped>\n",
       "    .dataframe tbody tr th:only-of-type {\n",
       "        vertical-align: middle;\n",
       "    }\n",
       "\n",
       "    .dataframe tbody tr th {\n",
       "        vertical-align: top;\n",
       "    }\n",
       "\n",
       "    .dataframe thead th {\n",
       "        text-align: right;\n",
       "    }\n",
       "</style>\n",
       "<table border=\"1\" class=\"dataframe\">\n",
       "  <thead>\n",
       "    <tr style=\"text-align: right;\">\n",
       "      <th></th>\n",
       "      <th>0</th>\n",
       "      <th>1</th>\n",
       "      <th>2</th>\n",
       "      <th>3</th>\n",
       "      <th>4</th>\n",
       "      <th>5</th>\n",
       "      <th>6</th>\n",
       "      <th>7</th>\n",
       "      <th>8</th>\n",
       "      <th>9</th>\n",
       "      <th>...</th>\n",
       "      <th>503</th>\n",
       "      <th>504</th>\n",
       "      <th>505</th>\n",
       "      <th>506</th>\n",
       "      <th>507</th>\n",
       "      <th>508</th>\n",
       "      <th>509</th>\n",
       "      <th>510</th>\n",
       "      <th>511</th>\n",
       "      <th>0.1</th>\n",
       "    </tr>\n",
       "  </thead>\n",
       "  <tbody>\n",
       "    <tr>\n",
       "      <th>0</th>\n",
       "      <td>99.0</td>\n",
       "      <td>96.0</td>\n",
       "      <td>91.0</td>\n",
       "      <td>89.0</td>\n",
       "      <td>91.0</td>\n",
       "      <td>89.0</td>\n",
       "      <td>87.0</td>\n",
       "      <td>93.0</td>\n",
       "      <td>98.0</td>\n",
       "      <td>89.0</td>\n",
       "      <td>...</td>\n",
       "      <td>139.0</td>\n",
       "      <td>120.0</td>\n",
       "      <td>99.0</td>\n",
       "      <td>90.0</td>\n",
       "      <td>102.0</td>\n",
       "      <td>115.0</td>\n",
       "      <td>132.0</td>\n",
       "      <td>149.0</td>\n",
       "      <td>144.0</td>\n",
       "      <td>instruction</td>\n",
       "    </tr>\n",
       "    <tr>\n",
       "      <th>1</th>\n",
       "      <td>23.0</td>\n",
       "      <td>40.0</td>\n",
       "      <td>64.0</td>\n",
       "      <td>89.0</td>\n",
       "      <td>86.0</td>\n",
       "      <td>33.0</td>\n",
       "      <td>-14.0</td>\n",
       "      <td>-17.0</td>\n",
       "      <td>9.0</td>\n",
       "      <td>18.0</td>\n",
       "      <td>...</td>\n",
       "      <td>136.0</td>\n",
       "      <td>118.0</td>\n",
       "      <td>81.0</td>\n",
       "      <td>55.0</td>\n",
       "      <td>49.0</td>\n",
       "      <td>82.0</td>\n",
       "      <td>173.0</td>\n",
       "      <td>243.0</td>\n",
       "      <td>242.0</td>\n",
       "      <td>instruction</td>\n",
       "    </tr>\n",
       "    <tr>\n",
       "      <th>2</th>\n",
       "      <td>41.0</td>\n",
       "      <td>26.0</td>\n",
       "      <td>16.0</td>\n",
       "      <td>20.0</td>\n",
       "      <td>34.0</td>\n",
       "      <td>51.0</td>\n",
       "      <td>56.0</td>\n",
       "      <td>55.0</td>\n",
       "      <td>57.0</td>\n",
       "      <td>66.0</td>\n",
       "      <td>...</td>\n",
       "      <td>70.0</td>\n",
       "      <td>81.0</td>\n",
       "      <td>90.0</td>\n",
       "      <td>75.0</td>\n",
       "      <td>64.0</td>\n",
       "      <td>65.0</td>\n",
       "      <td>59.0</td>\n",
       "      <td>60.0</td>\n",
       "      <td>68.0</td>\n",
       "      <td>instruction</td>\n",
       "    </tr>\n",
       "    <tr>\n",
       "      <th>3</th>\n",
       "      <td>208.0</td>\n",
       "      <td>198.0</td>\n",
       "      <td>122.0</td>\n",
       "      <td>84.0</td>\n",
       "      <td>161.0</td>\n",
       "      <td>249.0</td>\n",
       "      <td>216.0</td>\n",
       "      <td>122.0</td>\n",
       "      <td>83.0</td>\n",
       "      <td>67.0</td>\n",
       "      <td>...</td>\n",
       "      <td>-1.0</td>\n",
       "      <td>7.0</td>\n",
       "      <td>-13.0</td>\n",
       "      <td>-43.0</td>\n",
       "      <td>-55.0</td>\n",
       "      <td>-91.0</td>\n",
       "      <td>-129.0</td>\n",
       "      <td>-126.0</td>\n",
       "      <td>-108.0</td>\n",
       "      <td>instruction</td>\n",
       "    </tr>\n",
       "    <tr>\n",
       "      <th>4</th>\n",
       "      <td>129.0</td>\n",
       "      <td>133.0</td>\n",
       "      <td>114.0</td>\n",
       "      <td>105.0</td>\n",
       "      <td>101.0</td>\n",
       "      <td>109.0</td>\n",
       "      <td>99.0</td>\n",
       "      <td>65.0</td>\n",
       "      <td>69.0</td>\n",
       "      <td>118.0</td>\n",
       "      <td>...</td>\n",
       "      <td>73.0</td>\n",
       "      <td>42.0</td>\n",
       "      <td>17.0</td>\n",
       "      <td>37.0</td>\n",
       "      <td>59.0</td>\n",
       "      <td>98.0</td>\n",
       "      <td>163.0</td>\n",
       "      <td>199.0</td>\n",
       "      <td>203.0</td>\n",
       "      <td>instruction</td>\n",
       "    </tr>\n",
       "  </tbody>\n",
       "</table>\n",
       "<p>5 rows × 513 columns</p>\n",
       "</div>"
      ],
      "text/plain": [
       "       0      1      2      3      4      5      6      7     8      9  ...  \\\n",
       "0   99.0   96.0   91.0   89.0   91.0   89.0   87.0   93.0  98.0   89.0  ...   \n",
       "1   23.0   40.0   64.0   89.0   86.0   33.0  -14.0  -17.0   9.0   18.0  ...   \n",
       "2   41.0   26.0   16.0   20.0   34.0   51.0   56.0   55.0  57.0   66.0  ...   \n",
       "3  208.0  198.0  122.0   84.0  161.0  249.0  216.0  122.0  83.0   67.0  ...   \n",
       "4  129.0  133.0  114.0  105.0  101.0  109.0   99.0   65.0  69.0  118.0  ...   \n",
       "\n",
       "     503    504   505   506    507    508    509    510    511          0.1  \n",
       "0  139.0  120.0  99.0  90.0  102.0  115.0  132.0  149.0  144.0  instruction  \n",
       "1  136.0  118.0  81.0  55.0   49.0   82.0  173.0  243.0  242.0  instruction  \n",
       "2   70.0   81.0  90.0  75.0   64.0   65.0   59.0   60.0   68.0  instruction  \n",
       "3   -1.0    7.0 -13.0 -43.0  -55.0  -91.0 -129.0 -126.0 -108.0  instruction  \n",
       "4   73.0   42.0  17.0  37.0   59.0   98.0  163.0  199.0  203.0  instruction  \n",
       "\n",
       "[5 rows x 513 columns]"
      ]
     },
     "execution_count": 3,
     "metadata": {},
     "output_type": "execute_result"
    }
   ],
   "source": [
    "df.head()"
   ]
  },
  {
   "cell_type": "code",
   "execution_count": 4,
   "metadata": {},
   "outputs": [
    {
     "data": {
      "text/plain": [
       "{'color': 2405, 'instruction': 2012, 'math': 1097, 'relax': 934, 'music': 932}"
      ]
     },
     "execution_count": 4,
     "metadata": {},
     "output_type": "execute_result"
    }
   ],
   "source": [
    "dict(df['0.1'].value_counts())"
   ]
  },
  {
   "cell_type": "code",
   "execution_count": 5,
   "metadata": {},
   "outputs": [],
   "source": [
    "class_dict = {'color':0, 'instruction': 1, 'math':3, 'relax':4, 'music':5}\n",
    "\n",
    "df['0.1'] = df['0.1'].map(class_dict)"
   ]
  },
  {
   "cell_type": "code",
   "execution_count": 6,
   "metadata": {},
   "outputs": [
    {
     "data": {
      "text/plain": [
       "{0: 2405, 1: 2012, 3: 1097, 4: 934, 5: 932}"
      ]
     },
     "execution_count": 6,
     "metadata": {},
     "output_type": "execute_result"
    }
   ],
   "source": [
    "dict(df['0.1'].value_counts())"
   ]
  },
  {
   "cell_type": "code",
   "execution_count": 7,
   "metadata": {},
   "outputs": [],
   "source": [
    "X = df.drop('0.1', axis = 1)\n",
    "y = df['0.1']\n",
    "X = StandardScaler().fit(X).transform(X)\n",
    "\n",
    "X_train, X_test, y_train, y_test = train_test_split(X,y, test_size=0.20, random_state=10)"
   ]
  },
  {
   "cell_type": "code",
   "execution_count": 8,
   "metadata": {},
   "outputs": [
    {
     "data": {
      "text/plain": [
       "array([0.28523035, 0.30352304, 0.29471545, 0.27913279])"
      ]
     },
     "execution_count": 8,
     "metadata": {},
     "output_type": "execute_result"
    }
   ],
   "source": [
    "#itterating to find the best k value\n",
    "Ks = 5\n",
    "mean_acc = np.zeros((Ks-1))\n",
    "std_acc = np.zeros((Ks-1))\n",
    "ConfustionMx = [];\n",
    "for n in range(1,Ks):\n",
    "    \n",
    "    #Train Model and Predict  \n",
    "    neigh = KNeighborsClassifier(n_neighbors = n).fit(X_train,y_train)\n",
    "    yhat=neigh.predict(X_test)\n",
    "    mean_acc[n-1] = metrics.accuracy_score(y_test, yhat)\n",
    "\n",
    "    \n",
    "    std_acc[n-1]=np.std(yhat==y_test)/np.sqrt(yhat.shape[0])\n",
    "\n",
    "mean_acc"
   ]
  },
  {
   "cell_type": "code",
   "execution_count": 9,
   "metadata": {},
   "outputs": [
    {
     "data": {
      "image/png": "[encoded data removed]",
      "text/plain": [
       "<Figure size 432x288 with 1 Axes>"
      ]
     },
     "metadata": {
      "needs_background": "light"
     },
     "output_type": "display_data"
    }
   ],
   "source": [
    "#Plot model accuracy for Different number of Neighbors\n",
    "\n",
    "plt.plot(range(1,Ks),mean_acc,'g')\n",
    "plt.fill_between(range(1,Ks),mean_acc - 1 * std_acc,mean_acc + 1 * std_acc, alpha=0.10) #showing 68% data\n",
    "plt.legend(('Accuracy ', '+/- 1xstd'))\n",
    "plt.ylabel('Accuracy ')\n",
    "plt.xlabel('Number of Nabors (K)')\n",
    "plt.tight_layout()\n",
    "plt.show()"
   ]
  },
  {
   "cell_type": "code",
   "execution_count": 13,
   "metadata": {},
   "outputs": [],
   "source": [
    "scores=[]\n",
    "best_estimators = {}\n",
    "\n",
    "\n",
    "model_params = {  \n",
    "    \n",
    "     'LOGISTIC_REGRESSION': {\n",
    "        'model': LogisticRegression(),\n",
    "        'params': {\n",
    "            'C': [1,2,3,4,5,6,7],\n",
    "            'solver' : ['liblinear'],\n",
    "            'multi_class' : ['auto']\n",
    "        }\n",
    "    },\n",
    "    \n",
    "    'KNeighborsClassifier': {\n",
    "        'model': KNeighborsClassifier(),\n",
    "        'params': {\n",
    "            'n_neighbors': [2],\n",
    "            'weights' : ['uniform','distance'],\n",
    "        }\n",
    "    },\n",
    "    \n",
    "    'DecisionTreeClassifier': {\n",
    "        'model': DecisionTreeClassifier(),\n",
    "        'params': {\n",
    "            'criterion': ['entropy'],\n",
    "            'max_depth' : [None,1,2,5,4,3,6,7,8,9]\n",
    "        }\n",
    "    },\n",
    "    \n",
    "    \n",
    "   \n",
    "    \n",
    "    'GaussianNB': {\n",
    "        'model': GaussianNB(),\n",
    "        'params': {\n",
    "            \n",
    "        }\n",
    "    },\n",
    "    \n",
    "    \n",
    "    \n",
    "        \n",
    "    'SVM': {\n",
    "        'model': SVC(),\n",
    "        'params': {\n",
    "             'C': [7,8,9,10,11],\n",
    "             'kernel': ['rbf'],\n",
    "             'gamma': ['scale']\n",
    "        }\n",
    "    },\n",
    "    \n",
    "     'AdaBoostClassifier': {\n",
    "        'model': AdaBoostClassifier(),\n",
    "        'params': {\n",
    "            'n_estimators': [58,59,60,61,62,63],\n",
    "            'learning_rate' : [0.88,0.89,0.9,0.91,0.92],\n",
    "            'algorithm' : ['SAMME']\n",
    "        }\n",
    "    },\n",
    "       \n",
    "    'RANDOM_FOREST':{\n",
    "        'model' : RandomForestClassifier(),\n",
    "        'params': {\n",
    "            'n_estimators':[10,11,12,13,14,15],\n",
    "            'criterion': ['entropy'],\n",
    "            'random_state' : [8,9,10,13,14,15,16],\n",
    "            'max_depth' : [3,4,5,6,7]\n",
    "\n",
    "        }\n",
    "    }\n",
    "}"
   ]
  },
  {
   "cell_type": "code",
   "execution_count": 14,
   "metadata": {},
   "outputs": [
    {
     "name": "stdout",
     "output_type": "stream",
     "text": [
      "LogisticRegression() {'C': [1, 2, 3, 4, 5, 6, 7], 'solver': ['liblinear'], 'multi_class': ['auto']}\n",
      "18.41368794043859 minutes\n",
      "KNeighborsClassifier() {'n_neighbors': [2], 'weights': ['uniform', 'distance']}\n",
      "0.718956196308136 minutes\n",
      "DecisionTreeClassifier() {'criterion': ['entropy'], 'max_depth': [None, 1, 2, 5, 4, 3, 6, 7, 8, 9]}\n",
      "0.9864754358927409 minutes\n",
      "GaussianNB() {}\n",
      "0.006414687633514405 minutes\n",
      "SVC() {'C': [7, 8, 9, 10, 11], 'kernel': ['rbf'], 'gamma': ['scale']}\n",
      "7.181859354178111 minutes\n",
      "AdaBoostClassifier() {'n_estimators': [58, 59, 60, 61, 62, 63], 'learning_rate': [0.88, 0.89, 0.9, 0.91, 0.92], 'algorithm': ['SAMME']}\n",
      "21.798139607906343 minutes\n",
      "RandomForestClassifier() {'n_estimators': [10, 11, 12, 13, 14, 15], 'criterion': ['entropy'], 'random_state': [8, 9, 10, 13, 14, 15, 16], 'max_depth': [3, 4, 5, 6, 7]}\n",
      "6.461088069279989 minutes\n"
     ]
    }
   ],
   "source": [
    "import time\n",
    "\n",
    "\n",
    "for model_name, mp in model_params.items():\n",
    "    clf = GridSearchCV(mp['model'], mp['params'], cv=5, return_train_score=False)\n",
    "    print(mp['model'], mp['params'])\n",
    "    start_time = time.time()\n",
    "    \n",
    "    clf.fit(X_train, y_train)    \n",
    "    \n",
    "\n",
    "    scores.append({\n",
    "        'model': model_name,\n",
    "        'best_score': clf.best_score_,\n",
    "        'best_params': str(clf.best_params_)\n",
    "    })\n",
    "    best_estimators[model_name] = clf.best_estimator_\n",
    "    print('{} minutes'.format((time.time() - start_time)/60))"
   ]
  },
  {
   "cell_type": "code",
   "execution_count": 15,
   "metadata": {},
   "outputs": [
    {
     "data": {
      "text/html": [
       "<div>\n",
       "<style scoped>\n",
       "    .dataframe tbody tr th:only-of-type {\n",
       "        vertical-align: middle;\n",
       "    }\n",
       "\n",
       "    .dataframe tbody tr th {\n",
       "        vertical-align: top;\n",
       "    }\n",
       "\n",
       "    .dataframe thead th {\n",
       "        text-align: right;\n",
       "    }\n",
       "</style>\n",
       "<table border=\"1\" class=\"dataframe\">\n",
       "  <thead>\n",
       "    <tr style=\"text-align: right;\">\n",
       "      <th></th>\n",
       "      <th>model</th>\n",
       "      <th>best_score</th>\n",
       "      <th>best_params</th>\n",
       "    </tr>\n",
       "  </thead>\n",
       "  <tbody>\n",
       "    <tr>\n",
       "      <th>4</th>\n",
       "      <td>SVM</td>\n",
       "      <td>0.355015</td>\n",
       "      <td>{'C': 7, 'gamma': 'scale', 'kernel': 'rbf'}</td>\n",
       "    </tr>\n",
       "    <tr>\n",
       "      <th>6</th>\n",
       "      <td>RANDOM_FOREST</td>\n",
       "      <td>0.347392</td>\n",
       "      <td>{'criterion': 'entropy', 'max_depth': 6, 'n_es...</td>\n",
       "    </tr>\n",
       "    <tr>\n",
       "      <th>5</th>\n",
       "      <td>AdaBoostClassifier</td>\n",
       "      <td>0.339263</td>\n",
       "      <td>{'algorithm': 'SAMME', 'learning_rate': 0.91, ...</td>\n",
       "    </tr>\n",
       "    <tr>\n",
       "      <th>2</th>\n",
       "      <td>DecisionTreeClassifier</td>\n",
       "      <td>0.337907</td>\n",
       "      <td>{'criterion': 'entropy', 'max_depth': 3}</td>\n",
       "    </tr>\n",
       "    <tr>\n",
       "      <th>0</th>\n",
       "      <td>LOGISTIC_REGRESSION</td>\n",
       "      <td>0.281166</td>\n",
       "      <td>{'C': 1, 'multi_class': 'auto', 'solver': 'lib...</td>\n",
       "    </tr>\n",
       "    <tr>\n",
       "      <th>1</th>\n",
       "      <td>KNeighborsClassifier</td>\n",
       "      <td>0.280825</td>\n",
       "      <td>{'n_neighbors': 2, 'weights': 'uniform'}</td>\n",
       "    </tr>\n",
       "    <tr>\n",
       "      <th>3</th>\n",
       "      <td>GaussianNB</td>\n",
       "      <td>0.188347</td>\n",
       "      <td>{}</td>\n",
       "    </tr>\n",
       "  </tbody>\n",
       "</table>\n",
       "</div>"
      ],
      "text/plain": [
       "                    model  best_score  \\\n",
       "4                     SVM    0.355015   \n",
       "6           RANDOM_FOREST    0.347392   \n",
       "5      AdaBoostClassifier    0.339263   \n",
       "2  DecisionTreeClassifier    0.337907   \n",
       "0     LOGISTIC_REGRESSION    0.281166   \n",
       "1    KNeighborsClassifier    0.280825   \n",
       "3              GaussianNB    0.188347   \n",
       "\n",
       "                                         best_params  \n",
       "4        {'C': 7, 'gamma': 'scale', 'kernel': 'rbf'}  \n",
       "6  {'criterion': 'entropy', 'max_depth': 6, 'n_es...  \n",
       "5  {'algorithm': 'SAMME', 'learning_rate': 0.91, ...  \n",
       "2           {'criterion': 'entropy', 'max_depth': 3}  \n",
       "0  {'C': 1, 'multi_class': 'auto', 'solver': 'lib...  \n",
       "1           {'n_neighbors': 2, 'weights': 'uniform'}  \n",
       "3                                                 {}  "
      ]
     },
     "execution_count": 15,
     "metadata": {},
     "output_type": "execute_result"
    }
   ],
   "source": [
    "import pandas as pd    \n",
    "df2 = pd.DataFrame(scores,columns=['model','best_score','best_params'])\n",
    "df2 = df2.sort_values(by='best_score',ascending=False)\n",
    "df2"
   ]
  },
  {
   "cell_type": "code",
   "execution_count": 18,
   "metadata": {},
   "outputs": [
    {
     "data": {
      "text/plain": [
       "\"{'C': 1, 'multi_class': 'auto', 'solver': 'liblinear'}\""
      ]
     },
     "execution_count": 18,
     "metadata": {},
     "output_type": "execute_result"
    }
   ],
   "source": [
    "df2.best_params[0]"
   ]
  },
  {
   "cell_type": "code",
   "execution_count": 19,
   "metadata": {},
   "outputs": [
    {
     "data": {
      "text/plain": [
       "0.3340196976637655"
      ]
     },
     "execution_count": 19,
     "metadata": {},
     "output_type": "execute_result"
    }
   ],
   "source": [
    "cross_val_score(best_estimators['RANDOM_FOREST'],X_test,y_test,cv=5).mean()"
   ]
  },
  {
   "cell_type": "code",
   "execution_count": 20,
   "metadata": {},
   "outputs": [
    {
     "data": {
      "text/plain": [
       "0.28727439303710495"
      ]
     },
     "execution_count": 20,
     "metadata": {},
     "output_type": "execute_result"
    }
   ],
   "source": [
    "cross_val_score(best_estimators['KNeighborsClassifier'],X_test,y_test,cv=5).mean()"
   ]
  },
  {
   "cell_type": "code",
   "execution_count": 21,
   "metadata": {},
   "outputs": [
    {
     "data": {
      "text/plain": [
       "0.204617498854787"
      ]
     },
     "execution_count": 21,
     "metadata": {},
     "output_type": "execute_result"
    }
   ],
   "source": [
    "cross_val_score(best_estimators['GaussianNB'],X_test,y_test,cv=5).mean()"
   ]
  },
  {
   "cell_type": "code",
   "execution_count": 22,
   "metadata": {},
   "outputs": [
    {
     "data": {
      "text/plain": [
       "0.33874713696747594"
      ]
     },
     "execution_count": 22,
     "metadata": {},
     "output_type": "execute_result"
    }
   ],
   "source": [
    "cross_val_score(best_estimators['DecisionTreeClassifier'],X_test,y_test,cv=5).mean()"
   ]
  },
  {
   "cell_type": "code",
   "execution_count": 23,
   "metadata": {},
   "outputs": [
    {
     "data": {
      "text/plain": [
       "0.31437242327072834"
      ]
     },
     "execution_count": 23,
     "metadata": {},
     "output_type": "execute_result"
    }
   ],
   "source": [
    "cross_val_score(best_estimators['SVM'],X_test,y_test,cv=5).mean()"
   ]
  },
  {
   "cell_type": "code",
   "execution_count": 24,
   "metadata": {},
   "outputs": [
    {
     "data": {
      "text/plain": [
       "0.26014887769125056"
      ]
     },
     "execution_count": 24,
     "metadata": {},
     "output_type": "execute_result"
    }
   ],
   "source": [
    "cross_val_score(best_estimators['LOGISTIC_REGRESSION'],X_test,y_test,cv=5).mean()"
   ]
  },
  {
   "cell_type": "code",
   "execution_count": 26,
   "metadata": {},
   "outputs": [
    {
     "data": {
      "text/plain": [
       "0.3306229958772332"
      ]
     },
     "execution_count": 26,
     "metadata": {},
     "output_type": "execute_result"
    }
   ],
   "source": [
    "cross_val_score(best_estimators['AdaBoostClassifier'],X_test,y_test,cv=5).mean()"
   ]
  },
  {
   "cell_type": "code",
   "execution_count": 29,
   "metadata": {},
   "outputs": [
    {
     "data": {
      "text/plain": [
       "SVC(C=7)"
      ]
     },
     "execution_count": 29,
     "metadata": {},
     "output_type": "execute_result"
    }
   ],
   "source": [
    "best_clf = best_estimators['SVM']\n",
    "best_clf"
   ]
  },
  {
   "cell_type": "code",
   "execution_count": 24,
   "metadata": {},
   "outputs": [
    {
     "name": "stdout",
     "output_type": "stream",
     "text": [
      "              precision    recall  f1-score   support\n",
      "\n",
      "          -1       0.63      0.87      0.73       399\n",
      "           0       0.61      0.29      0.39       289\n",
      "\n",
      "    accuracy                           0.62       688\n",
      "   macro avg       0.62      0.58      0.56       688\n",
      "weighted avg       0.62      0.62      0.59       688\n",
      "\n"
     ]
    }
   ],
   "source": [
    "print(classification_report(y_test,best_clf.predict(X_test)))"
   ]
  },
  {
   "cell_type": "code",
   "execution_count": 29,
   "metadata": {},
   "outputs": [],
   "source": [
    "class_dict = {'seing color':0, 'hearing instruction': 1, 'doing math':3, 'relaxing':4, 'listening music':5}"
   ]
  },
  {
   "cell_type": "code",
   "execution_count": 39,
   "metadata": {},
   "outputs": [
    {
     "data": {
      "image/png": "[encoded data removed]",
      "text/plain": [
       "<Figure size 576x576 with 2 Axes>"
      ]
     },
     "metadata": {
      "needs_background": "light"
     },
     "output_type": "display_data"
    }
   ],
   "source": [
    "cm = confusion_matrix(y_test, best_clf.predict(X_test))\n",
    "cm\n",
    "\n",
    "fig, ax = plt.subplots(figsize=(8,8))\n",
    "\n",
    "g = sns.heatmap(cm,annot=True,ax=ax,fmt='.2f')\n",
    "g.set_yticklabels(g.get_yticklabels(), rotation = 0, fontsize = 12)\n",
    "g.set_xticklabels(g.get_xticklabels(), rotation = 90, fontsize = 12)\n",
    "ax.xaxis.set_ticklabels(class_dict.keys()); ax.yaxis.set_ticklabels(class_dict.keys());\n",
    "ax.set_xlabel('Predicted labels');ax.set_ylabel('True labels');"
   ]
  },
  {
   "cell_type": "code",
   "execution_count": 32,
   "metadata": {},
   "outputs": [
    {
     "data": {
      "text/plain": [
       "Index(['0', '1', '2', '3', '4', '5', '6', '7', '8', '9',\n",
       "       ...\n",
       "       '503', '504', '505', '506', '507', '508', '509', '510', '511', '0.1'],\n",
       "      dtype='object', length=513)"
      ]
     },
     "execution_count": 32,
     "metadata": {},
     "output_type": "execute_result"
    }
   ],
   "source": [
    "df.columns"
   ]
  },
  {
   "cell_type": "code",
   "execution_count": 34,
   "metadata": {},
   "outputs": [
    {
     "data": {
      "text/plain": [
       "Pipeline(steps=[('scaler', StandardScaler()), ('SVM', SVC(C=7))])"
      ]
     },
     "execution_count": 34,
     "metadata": {},
     "output_type": "execute_result"
    }
   ],
   "source": [
    "X = df.drop('0.1', axis = 1)\n",
    "y = df['0.1']\n",
    "\n",
    "from sklearn.pipeline import Pipeline\n",
    "pipe = Pipeline([('scaler', StandardScaler()), ('SVM', SVC(C=7, gamma= 'scale', kernel='rbf'))])\n",
    "\n",
    "pipe.fit(X,y)\n"
   ]
  },
  {
   "cell_type": "code",
   "execution_count": 35,
   "metadata": {},
   "outputs": [
    {
     "data": {
      "text/plain": [
       "array([1, 0, 0, ..., 0, 0, 0], dtype=int64)"
      ]
     },
     "execution_count": 35,
     "metadata": {},
     "output_type": "execute_result"
    }
   ],
   "source": [
    "pipe.predict(X)"
   ]
  },
  {
   "cell_type": "code",
   "execution_count": 36,
   "metadata": {},
   "outputs": [
    {
     "data": {
      "text/plain": [
       "['brain_saved_model.pkl']"
      ]
     },
     "execution_count": 36,
     "metadata": {},
     "output_type": "execute_result"
    }
   ],
   "source": [
    "import joblib \n",
    "joblib.dump(pipe, 'brain_saved_model.pkl')"
   ]
  },
  {
   "cell_type": "code",
   "execution_count": 37,
   "metadata": {},
   "outputs": [],
   "source": [
    "import json\n",
    "with open(\"brain_class_dictionary.json\",\"w\") as f:\n",
    "    f.write(json.dumps(class_dict))"
   ]
  }
 ],
 "metadata": {
  "kernelspec": {
   "display_name": "Python 3",
   "language": "python",
   "name": "python3"
  },
  "language_info": {
   "codemirror_mode": {
    "name": "ipython",
    "version": 3
   },
   "file_extension": ".py",
   "mimetype": "text/x-python",
   "name": "python",
   "nbconvert_exporter": "python",
   "pygments_lexer": "ipython3",
   "version": "3.7.6"
  }
 },
 "nbformat": 4,
 "nbformat_minor": 4
}
